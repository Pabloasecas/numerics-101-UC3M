{
 "cells": [
  {
   "cell_type": "markdown",
   "id": "e61b869c-8b85-4080-980f-27c166091709",
   "metadata": {},
   "source": [
    "# Numerical Integration & Quadrature  \n",
    "\n",
    "## Objectives  \n",
    "* derive the Trapezoidal, Simpson and Gaussian rules from polynomial interpolation  \n",
    "* understand the order‐of‑accuracy and error constants  \n",
    "* see how an **adaptive Simpson** routine refines the mesh where needed  \n",
    "* extend the ideas quickly to a polar **2‑D** integral  \n",
    "* validate everything on the Poiseuille pipe–flow rate  \n",
    "\n",
    "Throughout we use cylindrical co‑ordinates so the volumetric flow rate is  \n",
    "\n",
    "$$\n",
    "Q \\;=\\; 2\\pi \\!\\!\\int_{0}^{R} u(r)\\,r\\,dr,\n",
    "\\qquad u(r)=u_{\\max}\\Bigl(1-\\frac{r^{2}}{R^{2}}\\Bigr),\n",
    "\\qquad Q_{\\text{exact}}=\\frac{\\pi R^{2}u_{\\max}}{2}.\n",
    "$$\n"
   ]
  },
  {
   "cell_type": "markdown",
   "id": "a941a905-9c21-4e8a-92ca-b150c8b1f641",
   "metadata": {},
   "source": [
    "## 1. Composite Trapezoidal rule\n",
    "\n",
    "### Derivation  \n",
    "\n",
    "Interpolate $f(x)$ on each sub‑interval $[x_i,x_{i+1}]$ by the straight line through its end‑points.  \n",
    "The area of a **trapezoid** gives\n",
    "\n",
    "$$\n",
    "\\int_{x_i}^{x_{i+1}} f(x)\\,dx \\;\\approx\\; \\frac{h}{2}\\,[f(x_i)+f(x_{i+1})],\n",
    "\\qquad h=x_{i+1}-x_i.\n",
    "$$\n",
    "\n",
    "Summing $n$ identical panels on $[a,b]$ yields the **composite rule**\n",
    "\n",
    "$$\n",
    "I_h^{\\text{trap}} \\;=\\; h\\Bigl[\\tfrac{1}{2}f_0+f_1+\\dots+f_{n-1}+\\tfrac{1}{2}f_n\\Bigr],\n",
    "$$\n",
    "\n",
    "with truncation error  \n",
    "\n",
    "$$\n",
    "E_h^{\\text{trap}} \\;=\\; -\\,\\frac{(b-a)h^{\\,2}}{12}\\,f''(\\xi),\n",
    "\\qquad \\xi\\in(a,b),\n",
    "$$\n",
    "\n",
    "so the method is **2nd order** ($\\propto h^{2}$).\n"
   ]
  },
  {
   "cell_type": "code",
   "execution_count": 8,
   "id": "d692630c-8922-4c6a-9990-713cc952a2b7",
   "metadata": {},
   "outputs": [
    {
     "data": {
      "image/png": "[encoded data removed]",
      "text/plain": [
       "<Figure size 640x480 with 1 Axes>"
      ]
     },
     "metadata": {},
     "output_type": "display_data"
    }
   ],
   "source": [
    "# order check on f(x)=sin x over [0, π]\n",
    "import numpy as np, matplotlib.pyplot as plt\n",
    "from numpy import sin, pi, linspace\n",
    "\n",
    "def trapz(f, a, b, n):\n",
    "    x = linspace(a, b, n+1)\n",
    "    h = (b - a)/n\n",
    "    return h*(0.5*f(x[0]) + f(x[1:-1]).sum() + 0.5*f(x[-1]))\n",
    "\n",
    "exact = 2.0\n",
    "ns = 2**np.arange(3,10)\n",
    "err = [abs(trapz(sin, 0, pi, n)-exact) for n in ns]\n",
    "\n",
    "plt.loglog(ns, err, 'o-')\n",
    "p = -np.polyfit(np.log(ns), np.log(err), 1)[0]\n",
    "plt.title(f\"Trapezoidal: observed order ≈ {p:.2f}\")\n",
    "plt.xlabel(\"n panels\"); plt.ylabel(\"error\"); plt.grid(); plt.show()\n"
   ]
  },
  {
   "cell_type": "markdown",
   "id": "44436b0d-1cf9-4ed4-ab57-e0c2bd9ec2b6",
   "metadata": {},
   "source": [
    "## 2. Composite Simpson rule\n",
    "\n",
    "### Derivation  \n",
    "\n",
    "Replace $f(x)$ over **two** consecutive panels by the unique quadratic $P_2(x)$ passing through $(x_{i-1},f_{i-1}),(x_i,f_i),(x_{i+1},f_{i+1})$.  \n",
    "\n",
    "Exact integration of $P_2$ gives\n",
    "\n",
    "$$\n",
    "\\int_{x_{i-1}}^{x_{i+1}} f(x)\\,dx \\;\\approx\\;\n",
    "\\frac{h}{3}\\bigl[f_{i-1}+4f_i+f_{i+1}\\bigr].\n",
    "$$\n",
    "\n",
    "Applying this on $n$ even panels ($n=2m$)\n",
    "\n",
    "$$\n",
    "I_h^{\\text{Simp}} \\;=\\; \\frac{h}{3}\\Bigl[f_0 + 4(f_1+f_3+\\dots+f_{n-1}) +\n",
    "2(f_2+f_4+\\dots+f_{n-2}) + f_n\\Bigr],\n",
    "$$\n",
    "\n",
    "with error  \n",
    "\n",
    "$$\n",
    "E_h^{\\text{Simp}} \\;=\\; -\\,\\frac{(b-a)h^{\\,4}}{180}\\,f^{(4)}(\\xi),\n",
    "\\qquad\\text{so order }4.\n",
    "$$\n",
    "\n",
    "Because $u(r)(1)$ is quadratic in $r$, Simpson **should be exact** for our Poiseuille integral\n",
    "(aside from round‑off).\n"
   ]
  },
  {
   "cell_type": "code",
   "execution_count": 14,
   "id": "1f0e61d0-b17f-4d4d-8076-72b725fb35cb",
   "metadata": {},
   "outputs": [
    {
     "name": "stdout",
     "output_type": "stream",
     "text": [
      "N= 10 | Trapezoidal error 1.571e-02 | Simpson error 0.000e+00\n",
      "N= 20 | Trapezoidal error 3.927e-03 | Simpson error 0.000e+00\n",
      "N= 40 | Trapezoidal error 9.817e-04 | Simpson error 2.220e-16\n",
      "N= 80 | Trapezoidal error 2.454e-04 | Simpson error 0.000e+00\n"
     ]
    }
   ],
   "source": [
    "import numpy as np\n",
    "import scipy.integrate as si\n",
    "\n",
    "u_max, R = 1.0, 1.0\n",
    "f = lambda r: u_max*(1 - (r/R)**2)*r            # integrand after removing 2π\n",
    "Q_exact = np.pi*R**2*u_max/2\n",
    "\n",
    "def Q(rule, N):\n",
    "    r = np.linspace(0, R, N+1)\n",
    "    if rule == \"trap\":\n",
    "        I = np.trapezoid(f(r), x=r)             # ← new name + keyword x=\n",
    "    elif rule == \"simp\":\n",
    "        I = si.simpson(f(r), x=r)               # ← keyword x=\n",
    "    return 2*np.pi*I\n",
    "\n",
    "for N in (10, 20, 40, 80):\n",
    "    print(f\"N={N:3d} | Trapezoidal error {abs(Q('trap',N)-Q_exact):.3e} | \"\n",
    "          f\"Simpson error {abs(Q('simp',N)-Q_exact):.3e}\")\n"
   ]
  },
  {
   "cell_type": "markdown",
   "id": "4f9c3cdf-cbaa-4115-814c-16e11efb902f",
   "metadata": {},
   "source": [
    "## 3. Adaptive Simpson (QuadPack)\n",
    "\n",
    "### Idea  \n",
    "\n",
    "1. **Estimate local error** on $[a,b]$ by comparing a Simpson rule on  \n",
    "   the whole interval with two half‑interval Simpsons.  \n",
    "2. If the estimate exceeds the tolerance, **subdivide** and recurse.  \n",
    "\n",
    "The recursion builds a non‑uniform mesh concentrating points where  \n",
    "$f''$ and $f^{(4)}$ are large.  \n",
    "SciPy’s `quad` wraps this strategy (plus error propagation & safety factors).\n",
    "\n"
   ]
  },
  {
   "cell_type": "code",
   "execution_count": 11,
   "id": "f7bf8b07-54d6-49bb-a32a-dc6b859f1b08",
   "metadata": {},
   "outputs": [
    {
     "name": "stdout",
     "output_type": "stream",
     "text": [
      "quad Q  = 1.57079632679490\n",
      "true Q  = 1.57079632679490\n",
      "quad absolute error estimate ≤ 1.7e-14\n"
     ]
    }
   ],
   "source": [
    "from scipy.integrate import quad\n",
    "g = lambda r: u_max*(1-(r/R)**2)*r\n",
    "I, est = quad(g, 0, R, epsabs=1e-12)\n",
    "print(f\"quad Q  = {2*np.pi*I:.14f}\")\n",
    "print(f\"true Q  = {Q_exact:.14f}\")\n",
    "print(f\"quad absolute error estimate ≤ {2*np.pi*est:.1e}\")\n"
   ]
  },
  {
   "cell_type": "markdown",
   "id": "8ec0f7fa-c7e9-491a-8d2b-33b6878c0221",
   "metadata": {},
   "source": [
    "## 4. Gaussian Quadrature\n",
    "\n",
    "### Construction  \n",
    "\n",
    "On $[-1,1]$ choose nodes $x_j$ and weights $w_j$ so that  \n",
    "\n",
    "$$\n",
    "\\int_{-1}^{1} p(x)\\,dx \\;=\\; \\sum_{j=1}^{n} w_j\\,p(x_j)\n",
    "\\quad\\forall\\,p\\in\\mathcal P_{2n-1}.\n",
    "$$\n",
    "\n",
    "Orthogonality of Legendre polynomials $P_k$ leads to the\n",
    "$n$‑point **Gauss–Legendre** rule with optimal accuracy (degree $2n-1$).\n",
    "Mapping $[a,b]\\!\\to[-1,1]$ by $x=\\tfrac{b-a}{2}t+\\tfrac{a+b}{2}$,\n",
    "\n",
    "$$\n",
    "\\int_{a}^{b} f(x)\\,dx \\;=\\; \\frac{b-a}{2}\\sum_{j=1}^{n}\n",
    "w_j f\\!\\bigl(\\tfrac{b-a}{2}x_j+\\tfrac{a+b}{2}\\bigr)+\\mathcal O\\!\\bigl(f^{(2n)}\\bigr).\n",
    "$$\n",
    "\n",
    "Our $f(r)$ is degree 2 → an **$n=2$** Gauss rule gives machine precision.\n"
   ]
  },
  {
   "cell_type": "code",
   "execution_count": 12,
   "id": "c1cb6f76-b8df-4b4b-b6c8-0d5f2368a968",
   "metadata": {},
   "outputs": [
    {
     "name": "stdout",
     "output_type": "stream",
     "text": [
      "Gaussian (n=2) Q = 1.57079632679490 |error|=0.0e+00\n"
     ]
    }
   ],
   "source": [
    "from numpy.polynomial.legendre import leggauss\n",
    "def gauss(f,a,b,n):\n",
    "    x,w = leggauss(n)\n",
    "    xp = 0.5*(b-a)*x + 0.5*(a+b)\n",
    "    wp = 0.5*(b-a)*w\n",
    "    return (wp*f(xp)).sum()\n",
    "\n",
    "Q_gauss = 2*np.pi*gauss(g, 0, R, n=2)\n",
    "print(f\"Gaussian (n=2) Q = {Q_gauss:.14f} |error|={abs(Q_gauss-Q_exact):.1e}\")\n"
   ]
  },
  {
   "cell_type": "markdown",
   "id": "191b2702-5ef0-408d-8506-e237593cf16d",
   "metadata": {},
   "source": [
    "### Difficulties and pitfalls:\n",
    "\n",
    "Consider  \n",
    "\n",
    "$$\n",
    "I=\\int_{0}^{1}\\sqrt{x}\\;dx=\\frac23.\n",
    "$$\n",
    "\n",
    "The singular derivative at $x=0$ ruins Gauss‑Legendre.  \n",
    "A common fix is a **change of variables** that regularises the integrand:\n",
    "\n",
    "*Let $x=t^{2}$ ⇒ $dx = 2t\\,dt$*\n",
    "\n",
    "$$\n",
    "I = \\int_{0}^{1} 2t^{2}\\,dt = 2\\!\\Bigl[\\tfrac{t^{3}}{3}\\Bigr]_{0}^{1}= \\tfrac23,\n",
    "$$\n",
    "\n",
    "turning the integrand into a cubic polynomial that Gauss handles perfectly.\n"
   ]
  },
  {
   "cell_type": "code",
   "execution_count": 19,
   "id": "63c9eb73-c88c-4b07-a06c-8195347af96b",
   "metadata": {},
   "outputs": [
    {
     "name": "stdout",
     "output_type": "stream",
     "text": [
      "naïve Gauss error        (n=4) = 1.16e-03\n",
      "after x=t^2 substitution (n=4) = 1.11e-16\n"
     ]
    }
   ],
   "source": [
    "import numpy as np\n",
    "from numpy.polynomial.legendre import leggauss\n",
    "\n",
    "f_raw = lambda x: np.sqrt(x)\n",
    "exact  = 2/3\n",
    "\n",
    "def gauss_legendre(f,a,b,n):\n",
    "    x,w = leggauss(n)\n",
    "    xp  = 0.5*(b-a)*x + 0.5*(a+b)\n",
    "    wp  = 0.5*(b-a)*w\n",
    "    return (wp*f(xp)).sum()\n",
    "\n",
    "n=4\n",
    "I_bad  = gauss_legendre(f_raw, 0, 1, n)          # naïve\n",
    "# substitution x=t**2\n",
    "g = lambda t: 2*t**2\n",
    "I_good = gauss_legendre(g, 0, 1, n)\n",
    "\n",
    "print(f\"naïve Gauss error        (n={n}) = {abs(I_bad-exact):.2e}\")\n",
    "print(f\"after x=t^2 substitution (n={n}) = {abs(I_good-exact):.2e}\")\n"
   ]
  },
  {
   "cell_type": "markdown",
   "id": "135b18fa-aac4-46a2-bd93-f8c5d25931a4",
   "metadata": {},
   "source": [
    "Gauss–Legendre assumes the integrand is **analytic** over $[-1,1]$.  \n",
    "A single derivative discontinuity destroys the $2n\\!-\\!1$ polynomial exactness, so convergence drops to $\\mathcal O(n^{-p})$ with some small $p$.\n",
    "\n",
    "**Example**\n",
    "\n",
    "$$\n",
    "I=\\int_{-1}^{1}|x|\\,dx=\\tfrac12+\\tfrac12=1.\n",
    "$$\n",
    "\n",
    "The cusp at $x=0$ hurts Gauss badly unless we **split the interval** (piece‑wise smooth).\n"
   ]
  },
  {
   "cell_type": "code",
   "execution_count": 22,
   "id": "646f6bbb-d197-42b5-bde4-1a7621206bfa",
   "metadata": {},
   "outputs": [
    {
     "name": "stdout",
     "output_type": "stream",
     "text": [
      "n   |  Gauss error  |  piece‑wise Gauss error\n",
      " 2  | 1.55e-01      | 0.00e+00\n",
      " 4  | 4.25e-02      | 2.22e-16\n",
      " 8  | 1.15e-02      | 0.00e+00\n",
      "16  | 3.03e-03      | 1.11e-16\n"
     ]
    }
   ],
   "source": [
    "import numpy as np\n",
    "from numpy.polynomial.legendre import leggauss\n",
    "\n",
    "f = lambda x: np.abs(x)\n",
    "exact = 1.0\n",
    "\n",
    "def gauss_n(f, n):\n",
    "    x,w = leggauss(n)\n",
    "    return (w*f(x)).sum()\n",
    "\n",
    "print(\"n   |  Gauss error  |  piece‑wise Gauss error\")\n",
    "for n in (2,4,8,16):\n",
    "    I_all   = gauss_n(f, n)\n",
    "    # split at 0: integrate [-1,0] & [0,1] separately\n",
    "    xL,wL = leggauss(n);  IL = 0.5*(wL*f(0.5*(xL-1))).sum()   # map to [-1,0]\n",
    "    xR,wR = leggauss(n);  IR = 0.5*(wR*f(0.5*(xR+1))).sum()   # map to [0,1]\n",
    "    I_split = IL + IR\n",
    "    print(f\"{n:2d}  | {abs(I_all-exact):.2e}      | {abs(I_split-exact):.2e}\")\n"
   ]
  },
  {
   "cell_type": "markdown",
   "id": "87f1829c-3f18-4815-9ffc-b73ff18d4e1e",
   "metadata": {},
   "source": [
    "A smooth but fast‑oscillating function\n",
    "\n",
    "$$\n",
    "I(k)=\\int_{-1}^{1}\\sin(kx)\\,dx=\\frac{2\\sin k}{k}\n",
    "$$\n",
    "\n",
    "needs $\\mathcal O(k)$ Gauss points to be resolved, i.e. the rule loses its efficiency for large $k$.  \n",
    "Specialised alternatives include\n",
    "\n",
    "* **adaptive subdivision** until each sub‑interval spans $\\lesssim\\pi$ radians,  \n",
    "* **Filon / Levin / FFT‑based** oscillatory quadratures that exploit known frequency $k$.\n"
   ]
  },
  {
   "cell_type": "code",
   "execution_count": 23,
   "id": "88c36d1f-d865-47eb-9ea4-eccddd86620c",
   "metadata": {},
   "outputs": [
    {
     "name": "stdout",
     "output_type": "stream",
     "text": [
      "n=10 → Gauss error = 1.01e-02\n",
      "n=20 → Gauss error = 1.01e-02\n",
      "n=40 → Gauss error = 1.01e-02\n",
      "n=80 → Gauss error = 1.01e-02\n",
      "quad error           = 1.01e-02\n"
     ]
    }
   ],
   "source": [
    "import numpy as np, scipy.integrate as si\n",
    "from numpy.polynomial.legendre import leggauss\n",
    "\n",
    "k = 100                    # lots of wiggles\n",
    "f  = lambda x: np.sin(k*x)\n",
    "exact = 2*np.sin(k)/k\n",
    "\n",
    "for n in (10,20,40,80):\n",
    "    print(f\"n={n:2d} → Gauss error = {abs(gauss_legendre(f,-1,1,n)-exact):.2e}\")\n",
    "\n",
    "# quick adaptive comparison\n",
    "I_quad,_ = si.quad(f, -1, 1, epsabs=1e-9)\n",
    "print(f\"quad error           = {abs(I_quad-exact):.2e}\")\n"
   ]
  },
  {
   "cell_type": "markdown",
   "id": "febf879a-d578-4c18-b332-b44c74a31399",
   "metadata": {},
   "source": [
    "## 5. Extensions to 2D\n",
    "\n",
    "### Product rules and `dblquad`\n",
    "\n",
    "For **separable limits** the double integral factorises:\n",
    "\n",
    "$$\n",
    "Q \\;=\\; \\int_{0}^{2\\pi}\\!\\int_{0}^{R} u(r)\\,r\\,dr\\,d\\theta\n",
    "      = \\bigl[\\int_{0}^{R} u(r)\\,r\\,dr\\bigr]\\,\n",
    "        \\bigl[\\int_{0}^{2\\pi} d\\theta\\bigr].\n",
    "$$\n",
    "\n",
    "A fast way is to integrate the inner variable with any 1‑D rule and\n",
    "multiply by the outer span.  \n",
    "SciPy’s `dblquad` automates the nesting and includes adaptive refinement.\n"
   ]
  },
  {
   "cell_type": "code",
   "execution_count": 13,
   "id": "1d9f65a2-0c01-4600-9e1a-3d3a476f5894",
   "metadata": {},
   "outputs": [
    {
     "name": "stdout",
     "output_type": "stream",
     "text": [
      "dblquad Q = 1.57079632679490 |error| = 2.2e-16\n"
     ]
    }
   ],
   "source": [
    "from scipy.integrate import dblquad\n",
    "Q2, err = dblquad(lambda θ,r: u_max*(1-(r/R)**2)*r,\n",
    "                  0, R,\n",
    "                  lambda r: 0, lambda r: 2*np.pi)\n",
    "print(f\"dblquad Q = {Q2:.14f} |error| = {abs(Q2-Q_exact):.1e}\")\n"
   ]
  },
  {
   "cell_type": "markdown",
   "id": "405684d3-8f5c-493f-969f-5992b506d774",
   "metadata": {},
   "source": [
    "## A more interesting example:\n",
    "\n",
    "### Adaptive Simpson on a narrow Gaussian pulse  \n",
    "\n",
    "A one‑level Simpson approximation on $[a,b]$ is  \n",
    "\n",
    "$$\n",
    "S(a,b)=\\frac{b-a}{6}\\Bigl[f(a)+4f\\!\\bigl(\\tfrac{a+b}{2}\\bigr)+f(b)\\Bigr].\n",
    "$$  \n",
    "\n",
    "If we split the interval, compute  \n",
    "\n",
    "$$\n",
    "S_L=S(a,m),\\qquad S_R=S(m,b),\\qquad m=\\tfrac{a+b}{2},\n",
    "$$\n",
    "\n",
    "then the **local error estimate** is  \n",
    "\n",
    "$$\n",
    "\\Delta=\\frac{S_L+S_R-S(a,b)}{15}.\n",
    "$$  \n",
    "\n",
    "We **accept** $S_L+S_R+\\Delta$ if $|\\Delta|\\!<\\!\\varepsilon$, otherwise subdivide further.  \n",
    "The recursion creates a *non‑uniform mesh* automatically.\n",
    "\n",
    "We illustrate this on  \n",
    "\n",
    "$$\n",
    "f(x)=\\exp\\!\\left[-\\frac{(x-\\mu)^2}{2\\sigma^2}\\right],\\qquad\n",
    "\\mu=0.5,\\;\\sigma=0.02,\\;\\;x\\in[0,1],\n",
    "$$\n",
    "\n",
    "whose sharp peak demands many points near $x=\\mu$ but very few elsewhere.\n"
   ]
  },
  {
   "cell_type": "code",
   "execution_count": 16,
   "id": "6c6dcf60-546b-4a1a-a8ed-d859e6a524da",
   "metadata": {},
   "outputs": [
    {
     "name": "stdout",
     "output_type": "stream",
     "text": [
      "adaptive Simpson  = 5.0132569622e-02\n",
      "analytic reference = 5.0132565493e-02\n",
      "abs error         = 4.13e-09\n",
      "function evaluations = 121\n"
     ]
    },
    {
     "data": {
      "image/png": "[encoded data removed]",
      "text/plain": [
       "<Figure size 640x480 with 1 Axes>"
      ]
     },
     "metadata": {},
     "output_type": "display_data"
    }
   ],
   "source": [
    "import numpy as np, matplotlib.pyplot as plt, math\n",
    "from math import erf, sqrt, exp\n",
    "\n",
    "# -------- narrow Gaussian ---------\n",
    "mu, sigma = 0.5, 0.02\n",
    "f = lambda x: np.exp(-0.5*((x-mu)/sigma)**2)\n",
    "\n",
    "# analytic reference value on [0,1]\n",
    "I_exact = 0.5*sqrt(2*math.pi)*sigma*(\n",
    "    erf((1-mu)/(sqrt(2)*sigma)) - erf((-mu)/(sqrt(2)*sigma)))\n",
    "\n",
    "# -------- adaptive Simpson with node tracking ----------\n",
    "def adaptive_simpson(f, a, b, tol=1e-9, max_depth=20):\n",
    "    nodes = {a, b}                     # record unique evaluation points\n",
    "\n",
    "    def step(a, b, fa, fb, fm, S, depth):\n",
    "        m  = 0.5*(a+b)\n",
    "        h  = b-a\n",
    "        lm = 0.5*(a+m)\n",
    "        rm = 0.5*(m+b)\n",
    "        fl, fr = f(lm), f(rm)\n",
    "        nodes.update([lm, rm])\n",
    "\n",
    "        S_left  = (h/12)*(fa + 4*fl + fm)\n",
    "        S_right = (h/12)*(fm + 4*fr + fb)\n",
    "        err = (S_left + S_right - S)/15\n",
    "\n",
    "        if depth >= max_depth or abs(err) < tol:\n",
    "            return S_left + S_right + err\n",
    "        return (step(a, m, fa, fm, fl, S_left,  depth+1) +\n",
    "                step(m, b, fm, fb, fr, S_right, depth+1))\n",
    "\n",
    "    fa, fb = f(a), f(b)\n",
    "    m  = 0.5*(a+b)\n",
    "    fm = f(m)\n",
    "    S0 = (b-a)*(fa + 4*fm + fb)/6\n",
    "    nodes.update([m])\n",
    "    integral = step(a, b, fa, fb, fm, S0, 0)\n",
    "    return integral, np.array(sorted(nodes))\n",
    "\n",
    "# run integration\n",
    "I_adapt, pts = adaptive_simpson(f, 0.0, 1.0, tol=1e-8)\n",
    "print(f\"adaptive Simpson  = {I_adapt:.10e}\")\n",
    "print(f\"analytic reference = {I_exact:.10e}\")\n",
    "print(f\"abs error         = {abs(I_adapt-I_exact):.2e}\")\n",
    "print(f\"function evaluations = {len(pts)}\")\n",
    "\n",
    "# -------- visualise node clustering *on the curve* -------------\n",
    "x_plot = np.linspace(0, 1, 400)\n",
    "plt.plot(x_plot, f(x_plot), label=\"Gaussian pulse\")\n",
    "\n",
    "# plot evaluation nodes **at their true height**\n",
    "plt.scatter(pts, f(pts),  s=40, zorder=3,\n",
    "            edgecolor='k', facecolor='tab:red', label=\"evaluation nodes\")\n",
    "\n",
    "plt.title(\"Adaptive Simpson nodes cluster where the Gaussian peaks\")\n",
    "plt.xlabel(\"x\"); plt.ylabel(\"f(x)\")\n",
    "plt.legend(); plt.show()\n",
    "\n"
   ]
  },
  {
   "cell_type": "markdown",
   "id": "254b66a3-975c-4647-834e-455a5cc8de95",
   "metadata": {},
   "source": [
    "## Another example:\n",
    "\n",
    "### Boundary‑layer thickness in a turbulent 1∕7‑power‑law flow\n",
    "\n",
    "In a flat‑plate turbulent boundary layer the mean velocity profile is often modeled by the “1∕7‑power law”:\n",
    "\n",
    "$$\n",
    "\\frac{u(y)}{U_\\infty} = \\Bigl(\\frac{y}{\\delta}\\Bigr)^{1/7}, \n",
    "\\quad 0 \\le y \\le \\delta,\n",
    "$$\n",
    "\n",
    "where $\\delta$ is the boundary‑layer thickness. Two integral quantities of interest are:\n",
    "\n",
    "1. **Displacement thickness**  \n",
    "   $$\n",
    "   \\delta^* \\;=\\;\\int_0^\\delta\\Bigl[1-\\frac{u(y)}{U_\\infty}\\Bigr]\\,dy\n",
    "   = \\delta\\int_0^1\\bigl[1-v^{1/7}\\bigr]\\,dv,\n",
    "   $$\n",
    "\n",
    "2. **Momentum thickness**  \n",
    "   $$\n",
    "   \\theta \\;=\\;\\int_0^\\delta\\frac{u(y)}{U_\\infty}\\Bigl[1-\\frac{u(y)}{U_\\infty}\\Bigr]\\,dy\n",
    "   = \\delta\\int_0^1\\bigl[v^{1/7}-v^{2/7}\\bigr]\\,dv.\n",
    "   $$\n",
    "\n",
    "Analytically these reduce to\n",
    "$$\n",
    "\\int_0^1\\!(1 - v^{1/7})\\,dv = \\dfrac18,\n",
    "\\quad\n",
    "\\int_0^1\\!(v^{1/7} - v^{2/7})\\,dv = \\dfrac7{72},\n",
    "$$\n",
    "so that\n",
    "$$\n",
    "\\delta^* = \\frac{\\delta}{8}, \n",
    "\\quad \n",
    "\\theta = \\frac{7\\,\\delta}{72}, \n",
    "\\quad \n",
    "H = \\frac{\\delta^*}{\\theta} = \\frac{9}{7}\\approx1.286.\n",
    "$$\n",
    "\n",
    "Below we compare composite Simpson and Gauss–Legendre quadrature in recovering $\\delta^*/\\delta$ and $\\theta/\\delta$, using both a dense uniform grid and a low‑order Gaussian rule.\n"
   ]
  },
  {
   "cell_type": "code",
   "execution_count": 6,
   "id": "8bc19fe2-f765-4b69-a6ae-fbeedbc9d1e5",
   "metadata": {},
   "outputs": [
    {
     "name": "stdout",
     "output_type": "stream",
     "text": [
      "          | Simpson err  | Gauss err\n",
      "δ* / δ    | 5.42e-04     | 2.22e-03\n",
      "θ / δ     | 3.69e-04     | 7.53e-05\n"
     ]
    }
   ],
   "source": [
    "import numpy as np\n",
    "from scipy.integrate import simpson\n",
    "from numpy.polynomial.legendre import leggauss\n",
    "\n",
    "# normalized coordinate v=y/δ on [0,1]\n",
    "f_disp = lambda v: 1 - v**(1/7)\n",
    "f_mom  = lambda v: v**(1/7) - v**(2/7)\n",
    "\n",
    "# analytic (exact) values\n",
    "delta_star_ana = 1/8\n",
    "theta_ana      = 7/72\n",
    "\n",
    "# composite Simpson on a uniform grid\n",
    "vs = np.linspace(0, 1, 201)\n",
    "delta_star_simpson = simpson(y=f_disp(vs), x=vs)       # ← keyword args\n",
    "theta_simpson      = simpson(y=f_mom(vs),  x=vs)       # ← keyword args\n",
    "\n",
    "# 4‑point Gauss–Legendre\n",
    "x4, w4 = leggauss(4)\n",
    "v4 = 0.5*(x4 + 1)    # map from [-1,1] → [0,1]\n",
    "w4 = 0.5*w4\n",
    "delta_star_gauss = np.sum(w4 * f_disp(v4))\n",
    "theta_gauss      = np.sum(w4 * f_mom(v4))\n",
    "\n",
    "print(\"          | Simpson err  | Gauss err\")\n",
    "print(f\"δ* / δ    | {abs(delta_star_simpson - delta_star_ana):.2e}     | {abs(delta_star_gauss  - delta_star_ana):.2e}\")\n",
    "print(f\"θ / δ     | {abs(theta_simpson       - theta_ana)     :.2e}     | {abs(theta_gauss       - theta_ana):.2e}\")\n"
   ]
  },
  {
   "cell_type": "markdown",
   "id": "7b683f6c-8af4-4e41-9aec-b60be595dcd5",
   "metadata": {},
   "source": [
    "## Another example (cumulative integrals)\n",
    "\n",
    "### Cumulative circulation in a Lamb–Oseen vortex\n",
    "\n",
    "The Lamb–Oseen vortex is a model for a viscous vortex whose vorticity is distributed as\n",
    "\n",
    "$$\n",
    "\\omega(r)\\;=\\;\\frac{\\Gamma}{\\pi r_c^2}\\exp\\!\\Bigl(-\\frac{r^2}{r_c^2}\\Bigr),\n",
    "$$\n",
    "\n",
    "where $\\Gamma$ is the total circulation and $r_c$ the core radius.  The **cumulative circulation** within radius $r$ is\n",
    "\n",
    "$$\n",
    "C(r)\\;=\\;\\int_{0}^{r}\\!\\omega(r')\\,2\\pi r'\\,dr'\n",
    "\\;=\\;\\Gamma\\Bigl[1 - e^{-r^2/r_c^2}\\Bigr].\n",
    "$$\n",
    "\n",
    "Below we compute $C(r)$ numerically using the trapezoidal cumulative integral\n",
    "\n",
    "$$\n",
    "C_{\\rm num}(r_i)\n",
    "=\\;{\\tt cumulative\\_trapezoid}\\!\\bigl(2\\pi\\,r\\,\\omega(r),\\,r\\bigr)_i,\n",
    "$$\n",
    "\n",
    "and compare to the analytic formula, then plot $C(r)/\\Gamma$ versus $r/r_c$.  \n",
    "\n",
    "This illustrates how the core holds most of the circulation (rapid rise) while the far field adds very little.\n"
   ]
  },
  {
   "cell_type": "code",
   "execution_count": 18,
   "id": "0cb42212-486b-4ee9-8fe7-75a4d90e7412",
   "metadata": {},
   "outputs": [
    {
     "data": {
      "image/png": "[encoded data removed]",
      "text/plain": [
       "<Figure size 800x600 with 2 Axes>"
      ]
     },
     "metadata": {},
     "output_type": "display_data"
    }
   ],
   "source": [
    "import numpy as np\n",
    "import matplotlib.pyplot as plt\n",
    "from scipy.integrate import cumulative_trapezoid\n",
    "\n",
    "# Parameters\n",
    "Gamma, rc = 1.0, 1.0\n",
    "omega = lambda r: (Gamma/(np.pi * rc**2)) * np.exp(-r**2 / rc**2)\n",
    "\n",
    "# Grid and integrand\n",
    "r = np.linspace(1e-6, 5*rc, 50)  # avoid division by zero at r=0\n",
    "integrand = 2 * np.pi * r * omega(r)\n",
    "\n",
    "# Numeric cumulative circulation\n",
    "C_num = cumulative_trapezoid(y=integrand, x=r, initial=0)\n",
    "\n",
    "# Analytic cumulative circulation\n",
    "C_analytic = Gamma * (1 - np.exp(-r**2 / rc**2))\n",
    "\n",
    "# Azimuthal velocity: v_theta = C(r) / (2πr)\n",
    "v_theta_num = C_num / (2 * np.pi * r)\n",
    "v_theta_analytic = (Gamma / (2 * np.pi * r)) * (1 - np.exp(-r**2 / rc**2))\n",
    "\n",
    "# Plotting: 2x1 subplot, shared x-axis\n",
    "fig, (ax1, ax2) = plt.subplots(2, 1, sharex=True, figsize=(8, 6))\n",
    "\n",
    "# Top: cumulative circulation\n",
    "ax1.plot(r / rc, C_num / Gamma,'o', label=\"numeric\")\n",
    "ax1.plot(r / rc, C_analytic / Gamma, linestyle=\"-\", label=\"analytic\")\n",
    "ax1.set_ylabel(r\"$C(r)/\\Gamma$\")\n",
    "ax1.legend()\n",
    "ax1.grid(True)\n",
    "\n",
    "# Bottom: azimuthal velocity\n",
    "ax2.plot(r / rc, v_theta_num,'o', label=\"numeric\")\n",
    "ax2.plot(r / rc, v_theta_analytic, linestyle=\"-\", label=\"analytic\")\n",
    "ax2.set_xlabel(r\"$r/r_c$\")\n",
    "ax2.set_ylabel(r\"$v_\\theta(r)$\")\n",
    "ax2.legend()\n",
    "ax2.grid(True)\n",
    "\n",
    "plt.tight_layout()\n",
    "plt.show()\n"
   ]
  },
  {
   "cell_type": "code",
   "execution_count": null,
   "id": "064aed55-a282-4142-b019-b837990a5015",
   "metadata": {},
   "outputs": [],
   "source": []
  }
 ],
 "metadata": {
  "kernelspec": {
   "display_name": "Python 3 (ipykernel)",
   "language": "python",
   "name": "python3"
  },
  "language_info": {
   "codemirror_mode": {
    "name": "ipython",
    "version": 3
   },
   "file_extension": ".py",
   "mimetype": "text/x-python",
   "name": "python",
   "nbconvert_exporter": "python",
   "pygments_lexer": "ipython3",
   "version": "3.9.6"
  }
 },
 "nbformat": 4,
 "nbformat_minor": 5
}
